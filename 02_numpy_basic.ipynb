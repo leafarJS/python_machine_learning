{
 "cells": [
  {
   "cell_type": "markdown",
   "id": "32dcbd9d",
   "metadata": {},
   "source": [
    "## basic function numpy"
   ]
  },
  {
   "cell_type": "code",
   "execution_count": 1,
   "id": "4a754909",
   "metadata": {},
   "outputs": [],
   "source": [
    "import numpy as np"
   ]
  },
  {
   "cell_type": "code",
   "execution_count": 3,
   "id": "6ce7180a",
   "metadata": {},
   "outputs": [
    {
     "data": {
      "text/plain": [
       "array([0, 1, 2, 3, 4, 5, 6, 7, 8, 9])"
      ]
     },
     "execution_count": 3,
     "metadata": {},
     "output_type": "execute_result"
    }
   ],
   "source": [
    "arr = np.array([0, 1, 2, 3, 4, 5, 6, 7, 8, 9])\n",
    "arr"
   ]
  },
  {
   "cell_type": "code",
   "execution_count": 4,
   "id": "c0b767e0",
   "metadata": {},
   "outputs": [
    {
     "data": {
      "text/plain": [
       "numpy.ndarray"
      ]
     },
     "execution_count": 4,
     "metadata": {},
     "output_type": "execute_result"
    }
   ],
   "source": [
    "type(arr)"
   ]
  },
  {
   "cell_type": "code",
   "execution_count": 7,
   "id": "a9b92142",
   "metadata": {},
   "outputs": [
    {
     "data": {
      "text/plain": [
       "(10,)"
      ]
     },
     "execution_count": 7,
     "metadata": {},
     "output_type": "execute_result"
    }
   ],
   "source": [
    "arr.shape"
   ]
  },
  {
   "cell_type": "code",
   "execution_count": 8,
   "id": "66f0aa9f",
   "metadata": {},
   "outputs": [
    {
     "data": {
      "text/plain": [
       "5"
      ]
     },
     "execution_count": 8,
     "metadata": {},
     "output_type": "execute_result"
    }
   ],
   "source": [
    "arr[5]"
   ]
  },
  {
   "cell_type": "code",
   "execution_count": 10,
   "id": "b6bf9dba",
   "metadata": {},
   "outputs": [
    {
     "data": {
      "text/plain": [
       "array([  0,   1,   2,   3,   4,   5,   6, 100,   8,   9])"
      ]
     },
     "execution_count": 10,
     "metadata": {},
     "output_type": "execute_result"
    }
   ],
   "source": [
    "arr[7] = 100\n",
    "arr"
   ]
  },
  {
   "cell_type": "code",
   "execution_count": 11,
   "id": "90784cdc",
   "metadata": {},
   "outputs": [
    {
     "data": {
      "text/plain": [
       "array([[ 1,  2,  3,  4,  5],\n",
       "       [ 6,  7,  8,  9, 10]])"
      ]
     },
     "execution_count": 11,
     "metadata": {},
     "output_type": "execute_result"
    }
   ],
   "source": [
    "arr1 = np.array([[1,2,3,4,5],[6,7,8,9,10]])\n",
    "arr1"
   ]
  },
  {
   "cell_type": "code",
   "execution_count": 12,
   "id": "ebb8734f",
   "metadata": {},
   "outputs": [
    {
     "data": {
      "text/plain": [
       "9"
      ]
     },
     "execution_count": 12,
     "metadata": {},
     "output_type": "execute_result"
    }
   ],
   "source": [
    "arr1[1][3]"
   ]
  },
  {
   "cell_type": "code",
   "execution_count": 13,
   "id": "30b8ebf8",
   "metadata": {},
   "outputs": [
    {
     "data": {
      "text/plain": [
       "(2, 5)"
      ]
     },
     "execution_count": 13,
     "metadata": {},
     "output_type": "execute_result"
    }
   ],
   "source": [
    "arr1.shape"
   ]
  },
  {
   "cell_type": "code",
   "execution_count": 15,
   "id": "9aed025a",
   "metadata": {},
   "outputs": [
    {
     "data": {
      "text/plain": [
       "10"
      ]
     },
     "execution_count": 15,
     "metadata": {},
     "output_type": "execute_result"
    }
   ],
   "source": [
    "arr1[1][-1]"
   ]
  },
  {
   "cell_type": "code",
   "execution_count": 16,
   "id": "09eabb9a",
   "metadata": {},
   "outputs": [
    {
     "data": {
      "text/plain": [
       "array(['china', 'india', 'usa', 'mexico'], dtype='<U6')"
      ]
     },
     "execution_count": 16,
     "metadata": {},
     "output_type": "execute_result"
    }
   ],
   "source": [
    "arr2 = np.array([\"china\", \"india\", \"usa\", \"mexico\"])\n",
    "arr2"
   ]
  },
  {
   "cell_type": "code",
   "execution_count": 18,
   "id": "9308bb3c",
   "metadata": {},
   "outputs": [
    {
     "data": {
      "text/plain": [
       "array([ 0,  2,  4,  6,  8, 10, 12, 14, 16, 18, 20])"
      ]
     },
     "execution_count": 18,
     "metadata": {},
     "output_type": "execute_result"
    }
   ],
   "source": [
    "arr3 = np.arange(0,21,2)\n",
    "arr3"
   ]
  },
  {
   "cell_type": "code",
   "execution_count": 19,
   "id": "86a87a71",
   "metadata": {},
   "outputs": [
    {
     "data": {
      "text/plain": [
       "array([ 0.        ,  0.52631579,  1.05263158,  1.57894737,  2.10526316,\n",
       "        2.63157895,  3.15789474,  3.68421053,  4.21052632,  4.73684211,\n",
       "        5.26315789,  5.78947368,  6.31578947,  6.84210526,  7.36842105,\n",
       "        7.89473684,  8.42105263,  8.94736842,  9.47368421, 10.        ])"
      ]
     },
     "execution_count": 19,
     "metadata": {},
     "output_type": "execute_result"
    }
   ],
   "source": [
    "arr4 = np.linspace(0,10,20)\n",
    "arr4"
   ]
  },
  {
   "cell_type": "code",
   "execution_count": 20,
   "id": "2290b618",
   "metadata": {},
   "outputs": [
    {
     "data": {
      "text/plain": [
       "array([0.44652182, 0.13873393, 0.19456875, 0.19856532, 0.66357739,\n",
       "       0.59548468, 0.55694978, 0.47244625, 0.14357   , 0.40947447])"
      ]
     },
     "execution_count": 20,
     "metadata": {},
     "output_type": "execute_result"
    }
   ],
   "source": [
    "arr5  = np.random.rand(10)\n",
    "arr5"
   ]
  },
  {
   "cell_type": "code",
   "execution_count": 21,
   "id": "b13b0b61",
   "metadata": {},
   "outputs": [
    {
     "data": {
      "text/plain": [
       "array([[0.17189204, 0.56217819, 0.78306747, 0.42511495],\n",
       "       [0.89573548, 0.57003899, 0.47772075, 0.79655414],\n",
       "       [0.97092204, 0.00660625, 0.99005271, 0.01483613]])"
      ]
     },
     "execution_count": 21,
     "metadata": {},
     "output_type": "execute_result"
    }
   ],
   "source": [
    "arr6 = np.random.rand(3,4)\n",
    "arr6"
   ]
  },
  {
   "cell_type": "code",
   "execution_count": 23,
   "id": "23a46258",
   "metadata": {},
   "outputs": [
    {
     "data": {
      "text/plain": [
       "array([[0., 0., 0.],\n",
       "       [0., 0., 0.]])"
      ]
     },
     "execution_count": 23,
     "metadata": {},
     "output_type": "execute_result"
    }
   ],
   "source": [
    "np.zeros(10)\n"
   ]
  },
  {
   "cell_type": "code",
   "execution_count": 24,
   "id": "958cf81c",
   "metadata": {},
   "outputs": [
    {
     "data": {
      "text/plain": [
       "array([[0., 0., 0.],\n",
       "       [0., 0., 0.]])"
      ]
     },
     "execution_count": 24,
     "metadata": {},
     "output_type": "execute_result"
    }
   ],
   "source": [
    "np.zeros((2,3))"
   ]
  },
  {
   "cell_type": "code",
   "execution_count": 26,
   "id": "763eda24",
   "metadata": {},
   "outputs": [
    {
     "data": {
      "text/plain": [
       "array([[[1., 1., 1.],\n",
       "        [1., 1., 1.],\n",
       "        [1., 1., 1.],\n",
       "        [1., 1., 1.],\n",
       "        [1., 1., 1.],\n",
       "        [1., 1., 1.],\n",
       "        [1., 1., 1.],\n",
       "        [1., 1., 1.],\n",
       "        [1., 1., 1.],\n",
       "        [1., 1., 1.]],\n",
       "\n",
       "       [[1., 1., 1.],\n",
       "        [1., 1., 1.],\n",
       "        [1., 1., 1.],\n",
       "        [1., 1., 1.],\n",
       "        [1., 1., 1.],\n",
       "        [1., 1., 1.],\n",
       "        [1., 1., 1.],\n",
       "        [1., 1., 1.],\n",
       "        [1., 1., 1.],\n",
       "        [1., 1., 1.]],\n",
       "\n",
       "       [[1., 1., 1.],\n",
       "        [1., 1., 1.],\n",
       "        [1., 1., 1.],\n",
       "        [1., 1., 1.],\n",
       "        [1., 1., 1.],\n",
       "        [1., 1., 1.],\n",
       "        [1., 1., 1.],\n",
       "        [1., 1., 1.],\n",
       "        [1., 1., 1.],\n",
       "        [1., 1., 1.]],\n",
       "\n",
       "       [[1., 1., 1.],\n",
       "        [1., 1., 1.],\n",
       "        [1., 1., 1.],\n",
       "        [1., 1., 1.],\n",
       "        [1., 1., 1.],\n",
       "        [1., 1., 1.],\n",
       "        [1., 1., 1.],\n",
       "        [1., 1., 1.],\n",
       "        [1., 1., 1.],\n",
       "        [1., 1., 1.]],\n",
       "\n",
       "       [[1., 1., 1.],\n",
       "        [1., 1., 1.],\n",
       "        [1., 1., 1.],\n",
       "        [1., 1., 1.],\n",
       "        [1., 1., 1.],\n",
       "        [1., 1., 1.],\n",
       "        [1., 1., 1.],\n",
       "        [1., 1., 1.],\n",
       "        [1., 1., 1.],\n",
       "        [1., 1., 1.]],\n",
       "\n",
       "       [[1., 1., 1.],\n",
       "        [1., 1., 1.],\n",
       "        [1., 1., 1.],\n",
       "        [1., 1., 1.],\n",
       "        [1., 1., 1.],\n",
       "        [1., 1., 1.],\n",
       "        [1., 1., 1.],\n",
       "        [1., 1., 1.],\n",
       "        [1., 1., 1.],\n",
       "        [1., 1., 1.]],\n",
       "\n",
       "       [[1., 1., 1.],\n",
       "        [1., 1., 1.],\n",
       "        [1., 1., 1.],\n",
       "        [1., 1., 1.],\n",
       "        [1., 1., 1.],\n",
       "        [1., 1., 1.],\n",
       "        [1., 1., 1.],\n",
       "        [1., 1., 1.],\n",
       "        [1., 1., 1.],\n",
       "        [1., 1., 1.]],\n",
       "\n",
       "       [[1., 1., 1.],\n",
       "        [1., 1., 1.],\n",
       "        [1., 1., 1.],\n",
       "        [1., 1., 1.],\n",
       "        [1., 1., 1.],\n",
       "        [1., 1., 1.],\n",
       "        [1., 1., 1.],\n",
       "        [1., 1., 1.],\n",
       "        [1., 1., 1.],\n",
       "        [1., 1., 1.]],\n",
       "\n",
       "       [[1., 1., 1.],\n",
       "        [1., 1., 1.],\n",
       "        [1., 1., 1.],\n",
       "        [1., 1., 1.],\n",
       "        [1., 1., 1.],\n",
       "        [1., 1., 1.],\n",
       "        [1., 1., 1.],\n",
       "        [1., 1., 1.],\n",
       "        [1., 1., 1.],\n",
       "        [1., 1., 1.]],\n",
       "\n",
       "       [[1., 1., 1.],\n",
       "        [1., 1., 1.],\n",
       "        [1., 1., 1.],\n",
       "        [1., 1., 1.],\n",
       "        [1., 1., 1.],\n",
       "        [1., 1., 1.],\n",
       "        [1., 1., 1.],\n",
       "        [1., 1., 1.],\n",
       "        [1., 1., 1.],\n",
       "        [1., 1., 1.]]])"
      ]
     },
     "execution_count": 26,
     "metadata": {},
     "output_type": "execute_result"
    }
   ],
   "source": [
    "np.ones((10,10,3))"
   ]
  },
  {
   "cell_type": "code",
   "execution_count": 27,
   "id": "b83e1ab9",
   "metadata": {},
   "outputs": [
    {
     "data": {
      "text/plain": [
       "array([[1., 1., 1., 1., 1., 1., 1., 1., 1., 1.],\n",
       "       [1., 1., 1., 1., 1., 1., 1., 1., 1., 1.],\n",
       "       [1., 1., 1., 1., 1., 1., 1., 1., 1., 1.],\n",
       "       [1., 1., 1., 1., 1., 1., 1., 1., 1., 1.],\n",
       "       [1., 1., 1., 1., 1., 1., 1., 1., 1., 1.],\n",
       "       [1., 1., 1., 1., 1., 1., 1., 1., 1., 1.],\n",
       "       [1., 1., 1., 1., 1., 1., 1., 1., 1., 1.],\n",
       "       [1., 1., 1., 1., 1., 1., 1., 1., 1., 1.],\n",
       "       [1., 1., 1., 1., 1., 1., 1., 1., 1., 1.],\n",
       "       [1., 1., 1., 1., 1., 1., 1., 1., 1., 1.]])"
      ]
     },
     "execution_count": 27,
     "metadata": {},
     "output_type": "execute_result"
    }
   ],
   "source": [
    "np.ones((10,10))"
   ]
  },
  {
   "cell_type": "code",
   "execution_count": 28,
   "id": "19105dfb",
   "metadata": {},
   "outputs": [
    {
     "data": {
      "text/plain": [
       "array([ 0,  0,  0,  1,  1,  1,  2,  2,  2,  3,  3,  3,  4,  4,  4,  5,  5,\n",
       "        5,  6,  6,  6,  7,  7,  7,  8,  8,  8,  9,  9,  9, 10, 10, 10])"
      ]
     },
     "execution_count": 28,
     "metadata": {},
     "output_type": "execute_result"
    }
   ],
   "source": [
    "arr = [0,1,2,3,4,5,6,7,8,9,10]\n",
    "np.repeat(arr,3)"
   ]
  },
  {
   "cell_type": "code",
   "execution_count": 30,
   "id": "ebf28112",
   "metadata": {},
   "outputs": [
    {
     "data": {
      "text/plain": [
       "array([ 0,  1,  2,  3,  4,  5,  6,  7,  8,  9, 10,  0,  1,  2,  3,  4,  5,\n",
       "        6,  7,  8,  9, 10,  0,  1,  2,  3,  4,  5,  6,  7,  8,  9, 10,  0,\n",
       "        1,  2,  3,  4,  5,  6,  7,  8,  9, 10,  0,  1,  2,  3,  4,  5,  6,\n",
       "        7,  8,  9, 10,  0,  1,  2,  3,  4,  5,  6,  7,  8,  9, 10,  0,  1,\n",
       "        2,  3,  4,  5,  6,  7,  8,  9, 10,  0,  1,  2,  3,  4,  5,  6,  7,\n",
       "        8,  9, 10,  0,  1,  2,  3,  4,  5,  6,  7,  8,  9, 10])"
      ]
     },
     "execution_count": 30,
     "metadata": {},
     "output_type": "execute_result"
    }
   ],
   "source": [
    "arr = np.tile(arr,3)\n",
    "arr"
   ]
  },
  {
   "cell_type": "code",
   "execution_count": 31,
   "id": "bb97c417",
   "metadata": {},
   "outputs": [
    {
     "data": {
      "text/plain": [
       "array([[1., 0., 0.],\n",
       "       [0., 1., 0.],\n",
       "       [0., 0., 1.]])"
      ]
     },
     "execution_count": 31,
     "metadata": {},
     "output_type": "execute_result"
    }
   ],
   "source": [
    "arr  = np.eye(3)\n",
    "arr"
   ]
  },
  {
   "cell_type": "code",
   "execution_count": 33,
   "id": "de9578e4",
   "metadata": {},
   "outputs": [
    {
     "data": {
      "text/plain": [
       "array([[1, 0, 0, 0, 0, 0],\n",
       "       [0, 2, 0, 0, 0, 0],\n",
       "       [0, 0, 3, 0, 0, 0],\n",
       "       [0, 0, 0, 4, 0, 0],\n",
       "       [0, 0, 0, 0, 5, 0],\n",
       "       [0, 0, 0, 0, 0, 6]])"
      ]
     },
     "execution_count": 33,
     "metadata": {},
     "output_type": "execute_result"
    }
   ],
   "source": [
    "arr = np.diag([1,2,3,4,5,6])\n",
    "arr"
   ]
  },
  {
   "cell_type": "code",
   "execution_count": 34,
   "id": "d214b243",
   "metadata": {},
   "outputs": [
    {
     "data": {
      "text/plain": [
       "array([[0.97801701, 0.58510284, 0.46589776, 0.44186691, 0.36550035],\n",
       "       [0.85723959, 0.45992448, 0.66739424, 0.69894046, 0.29448223],\n",
       "       [0.6209215 , 0.461849  , 0.73352239, 0.64719706, 0.92974556],\n",
       "       [0.0718515 , 0.29046645, 0.80436536, 0.78933661, 0.20514702],\n",
       "       [0.66018572, 0.8632601 , 0.88800852, 0.5573378 , 0.12866624]])"
      ]
     },
     "execution_count": 34,
     "metadata": {},
     "output_type": "execute_result"
    }
   ],
   "source": [
    "arr = np.random.rand(5,5)\n",
    "arr"
   ]
  },
  {
   "cell_type": "code",
   "execution_count": 35,
   "id": "adf9520d",
   "metadata": {},
   "outputs": [
    {
     "data": {
      "text/plain": [
       "array([0.97801701, 0.45992448, 0.73352239, 0.78933661, 0.12866624])"
      ]
     },
     "execution_count": 35,
     "metadata": {},
     "output_type": "execute_result"
    }
   ],
   "source": [
    "np.diag(arr)"
   ]
  },
  {
   "cell_type": "code",
   "execution_count": 36,
   "id": "e985153e",
   "metadata": {},
   "outputs": [
    {
     "data": {
      "text/plain": [
       "25"
      ]
     },
     "execution_count": 36,
     "metadata": {},
     "output_type": "execute_result"
    }
   ],
   "source": [
    "arr.size"
   ]
  },
  {
   "cell_type": "code",
   "execution_count": 37,
   "id": "e5a90c8e",
   "metadata": {},
   "outputs": [
    {
     "data": {
      "text/plain": [
       "(5, 5)"
      ]
     },
     "execution_count": 37,
     "metadata": {},
     "output_type": "execute_result"
    }
   ],
   "source": [
    "arr.shape"
   ]
  },
  {
   "cell_type": "code",
   "execution_count": 38,
   "id": "a02e2b83",
   "metadata": {},
   "outputs": [
    {
     "data": {
      "text/plain": [
       "array([ -6, -10,   8,   6])"
      ]
     },
     "execution_count": 38,
     "metadata": {},
     "output_type": "execute_result"
    }
   ],
   "source": [
    "arr = np.random.randint(-10,10,4)\n",
    "arr"
   ]
  },
  {
   "cell_type": "code",
   "execution_count": 39,
   "id": "5f20641f",
   "metadata": {},
   "outputs": [
    {
     "data": {
      "text/plain": [
       "array([ 4,  0, 18, 16])"
      ]
     },
     "execution_count": 39,
     "metadata": {},
     "output_type": "execute_result"
    }
   ],
   "source": [
    "arr+10"
   ]
  },
  {
   "cell_type": "code",
   "execution_count": 40,
   "id": "66b90778",
   "metadata": {},
   "outputs": [
    {
     "data": {
      "text/plain": [
       "array([-11, -15,   3,   1])"
      ]
     },
     "execution_count": 40,
     "metadata": {},
     "output_type": "execute_result"
    }
   ],
   "source": [
    "arr-5"
   ]
  },
  {
   "cell_type": "code",
   "execution_count": 41,
   "id": "a82feb0d",
   "metadata": {},
   "outputs": [
    {
     "data": {
      "text/plain": [
       "array([-3., -5.,  4.,  3.])"
      ]
     },
     "execution_count": 41,
     "metadata": {},
     "output_type": "execute_result"
    }
   ],
   "source": [
    "arr/2"
   ]
  },
  {
   "cell_type": "code",
   "execution_count": 43,
   "id": "f7aed6db",
   "metadata": {},
   "outputs": [
    {
     "data": {
      "text/plain": [
       "array([2.47875218e-03, 4.53999298e-05, 2.98095799e+03, 4.03428793e+02])"
      ]
     },
     "execution_count": 43,
     "metadata": {},
     "output_type": "execute_result"
    }
   ],
   "source": [
    "np.exp(arr)"
   ]
  },
  {
   "cell_type": "code",
   "execution_count": 44,
   "id": "b44e83c9",
   "metadata": {},
   "outputs": [
    {
     "name": "stderr",
     "output_type": "stream",
     "text": [
      "C:\\Users\\Administrador\\AppData\\Local\\Temp\\ipykernel_6060\\3120950136.py:1: RuntimeWarning: invalid value encountered in log\n",
      "  np.log(arr)\n"
     ]
    },
    {
     "data": {
      "text/plain": [
       "array([       nan,        nan, 2.07944154, 1.79175947])"
      ]
     },
     "execution_count": 44,
     "metadata": {},
     "output_type": "execute_result"
    }
   ],
   "source": [
    "np.log(arr)"
   ]
  },
  {
   "cell_type": "code",
   "execution_count": 45,
   "id": "16e71d6b",
   "metadata": {},
   "outputs": [
    {
     "data": {
      "text/plain": [
       "array([ 0.2794155 ,  0.54402111,  0.98935825, -0.2794155 ])"
      ]
     },
     "execution_count": 45,
     "metadata": {},
     "output_type": "execute_result"
    }
   ],
   "source": [
    "np.sin(arr)"
   ]
  },
  {
   "cell_type": "code",
   "execution_count": 46,
   "id": "c4992480",
   "metadata": {},
   "outputs": [
    {
     "data": {
      "text/plain": [
       "array([ 0.96017029, -0.83907153, -0.14550003,  0.96017029])"
      ]
     },
     "execution_count": 46,
     "metadata": {},
     "output_type": "execute_result"
    }
   ],
   "source": [
    "np.cos(arr)"
   ]
  },
  {
   "cell_type": "code",
   "execution_count": 47,
   "id": "c19c3f4c",
   "metadata": {},
   "outputs": [
    {
     "data": {
      "text/plain": [
       "array([ 0.29100619, -0.64836083, -6.79971146, -0.29100619])"
      ]
     },
     "execution_count": 47,
     "metadata": {},
     "output_type": "execute_result"
    }
   ],
   "source": [
    "np.tan(arr)"
   ]
  },
  {
   "cell_type": "code",
   "execution_count": 49,
   "id": "2f8a4e60",
   "metadata": {},
   "outputs": [
    {
     "data": {
      "text/plain": [
       "array([[0.04323498, 0.23628294, 0.06990571, 0.69365412, 0.76368415],\n",
       "       [0.05247439, 0.94676521, 0.05842454, 0.25861297, 0.23677928],\n",
       "       [0.97724074, 0.09435127, 0.18464079, 0.89877135, 0.07346383],\n",
       "       [0.97005859, 0.05640996, 0.61345853, 0.8945302 , 0.65688107],\n",
       "       [0.21074519, 0.63140354, 0.31267116, 0.34113859, 0.29219588]])"
      ]
     },
     "execution_count": 49,
     "metadata": {},
     "output_type": "execute_result"
    }
   ],
   "source": [
    "arr = np.random.rand(5,5)\n",
    "arr"
   ]
  },
  {
   "cell_type": "code",
   "execution_count": 50,
   "id": "be677883",
   "metadata": {},
   "outputs": [
    {
     "data": {
      "text/plain": [
       "array([1.80676191, 1.55305639, 2.22846799, 3.19133835, 1.78815436])"
      ]
     },
     "execution_count": 50,
     "metadata": {},
     "output_type": "execute_result"
    }
   ],
   "source": [
    "np.sum(arr, axis=1) #row"
   ]
  },
  {
   "cell_type": "code",
   "execution_count": 51,
   "id": "dd5f0fcb",
   "metadata": {},
   "outputs": [
    {
     "data": {
      "text/plain": [
       "array([2.25375389, 1.96521292, 1.23910073, 3.08670723, 2.02300422])"
      ]
     },
     "execution_count": 51,
     "metadata": {},
     "output_type": "execute_result"
    }
   ],
   "source": [
    "np.sum(arr, axis=0) #col"
   ]
  },
  {
   "cell_type": "code",
   "execution_count": 52,
   "id": "83cad7c7",
   "metadata": {},
   "outputs": [
    {
     "data": {
      "text/plain": [
       "0.043234977635419836"
      ]
     },
     "execution_count": 52,
     "metadata": {},
     "output_type": "execute_result"
    }
   ],
   "source": [
    "np.min(arr)"
   ]
  },
  {
   "cell_type": "code",
   "execution_count": 53,
   "id": "0daf9c2f",
   "metadata": {},
   "outputs": [
    {
     "data": {
      "text/plain": [
       "0.9772407381696299"
      ]
     },
     "execution_count": 53,
     "metadata": {},
     "output_type": "execute_result"
    }
   ],
   "source": [
    "np.max(arr)"
   ]
  },
  {
   "cell_type": "code",
   "execution_count": 54,
   "id": "5eba97de",
   "metadata": {},
   "outputs": [
    {
     "data": {
      "text/plain": [
       "array([0.04323498, 0.05247439, 0.07346383, 0.05640996, 0.21074519])"
      ]
     },
     "execution_count": 54,
     "metadata": {},
     "output_type": "execute_result"
    }
   ],
   "source": [
    "np.min(arr, axis=1)"
   ]
  },
  {
   "cell_type": "code",
   "execution_count": 56,
   "id": "13342283",
   "metadata": {},
   "outputs": [
    {
     "data": {
      "text/plain": [
       "array([0.97724074, 0.94676521, 0.61345853, 0.89877135, 0.76368415])"
      ]
     },
     "execution_count": 56,
     "metadata": {},
     "output_type": "execute_result"
    }
   ],
   "source": [
    "np.max(arr, axis=0)"
   ]
  },
  {
   "cell_type": "code",
   "execution_count": 57,
   "id": "4f58b819",
   "metadata": {},
   "outputs": [
    {
     "data": {
      "text/plain": [
       "0.4227111599078349"
      ]
     },
     "execution_count": 57,
     "metadata": {},
     "output_type": "execute_result"
    }
   ],
   "source": [
    "np.mean(arr)"
   ]
  },
  {
   "cell_type": "code",
   "execution_count": 58,
   "id": "c1f8665f",
   "metadata": {},
   "outputs": [
    {
     "data": {
      "text/plain": [
       "array([0.36135238, 0.31061128, 0.4456936 , 0.63826767, 0.35763087])"
      ]
     },
     "execution_count": 58,
     "metadata": {},
     "output_type": "execute_result"
    }
   ],
   "source": [
    "np.mean(arr, axis=1)"
   ]
  },
  {
   "cell_type": "code",
   "execution_count": 59,
   "id": "78ddf5e0",
   "metadata": {},
   "outputs": [
    {
     "data": {
      "text/plain": [
       "array([0.45075078, 0.39304258, 0.24782015, 0.61734145, 0.40460084])"
      ]
     },
     "execution_count": 59,
     "metadata": {},
     "output_type": "execute_result"
    }
   ],
   "source": [
    "np.mean(arr, axis=0)"
   ]
  },
  {
   "cell_type": "code",
   "execution_count": 60,
   "id": "0198bdec",
   "metadata": {},
   "outputs": [
    {
     "data": {
      "text/plain": [
       "0.11165198425703685"
      ]
     },
     "execution_count": 60,
     "metadata": {},
     "output_type": "execute_result"
    }
   ],
   "source": [
    "np.var(arr)"
   ]
  },
  {
   "cell_type": "code",
   "execution_count": 63,
   "id": "f6bc0f69",
   "metadata": {},
   "outputs": [
    {
     "data": {
      "text/plain": [
       "0.33414365811284946"
      ]
     },
     "execution_count": 63,
     "metadata": {},
     "output_type": "execute_result"
    }
   ],
   "source": [
    "np.std(arr)"
   ]
  },
  {
   "cell_type": "code",
   "execution_count": 64,
   "id": "2b868d9f",
   "metadata": {},
   "outputs": [],
   "source": [
    "arr = np.array([0,1,2,3,4,5,6,7,8,9])"
   ]
  },
  {
   "cell_type": "code",
   "execution_count": 65,
   "id": "53686f38",
   "metadata": {},
   "outputs": [
    {
     "data": {
      "text/plain": [
       "array([0, 1, 2])"
      ]
     },
     "execution_count": 65,
     "metadata": {},
     "output_type": "execute_result"
    }
   ],
   "source": [
    "arr[:3]"
   ]
  },
  {
   "cell_type": "code",
   "execution_count": 66,
   "id": "876dfaf7",
   "metadata": {},
   "outputs": [
    {
     "data": {
      "text/plain": [
       "array([3, 4, 5, 6, 7, 8, 9])"
      ]
     },
     "execution_count": 66,
     "metadata": {},
     "output_type": "execute_result"
    }
   ],
   "source": [
    "arr[3:]"
   ]
  },
  {
   "cell_type": "code",
   "execution_count": 67,
   "id": "4930c32f",
   "metadata": {},
   "outputs": [
    {
     "data": {
      "text/plain": [
       "array([[8]])"
      ]
     },
     "execution_count": 67,
     "metadata": {},
     "output_type": "execute_result"
    }
   ],
   "source": [
    "arr = np.array([[1,2,3,4,5],[6,7,8,9,0]])\n",
    "arr[1:,2:3]"
   ]
  },
  {
   "cell_type": "code",
   "execution_count": 72,
   "id": "af235b95",
   "metadata": {},
   "outputs": [
    {
     "data": {
      "text/plain": [
       "array([[3],\n",
       "       [8]])"
      ]
     },
     "execution_count": 72,
     "metadata": {},
     "output_type": "execute_result"
    }
   ],
   "source": [
    "arr[0:,2:3]"
   ]
  },
  {
   "cell_type": "code",
   "execution_count": 73,
   "id": "9f0688b3",
   "metadata": {},
   "outputs": [
    {
     "data": {
      "text/plain": [
       "array([[1, 2, 3, 4, 5],\n",
       "       [0, 6, 7, 8, 9]])"
      ]
     },
     "execution_count": 73,
     "metadata": {},
     "output_type": "execute_result"
    }
   ],
   "source": [
    "np.sort(arr)"
   ]
  },
  {
   "cell_type": "code",
   "execution_count": 74,
   "id": "a5d11c5b",
   "metadata": {},
   "outputs": [
    {
     "data": {
      "text/plain": [
       "array([[0.05761986, 0.61451204, 0.92583259, 0.04816503, 0.27915928],\n",
       "       [0.74214789, 0.15942525, 0.23917093, 0.65684784, 0.84692386],\n",
       "       [0.08197369, 0.32075797, 0.06518092, 0.40477096, 0.37388711],\n",
       "       [0.16868656, 0.35874132, 0.93076608, 0.44922811, 0.10883077],\n",
       "       [0.98915458, 0.74376861, 0.72977015, 0.27241854, 0.45840839]])"
      ]
     },
     "execution_count": 74,
     "metadata": {},
     "output_type": "execute_result"
    }
   ],
   "source": [
    "arr = np.random.rand(5,5)\n",
    "arr"
   ]
  },
  {
   "cell_type": "code",
   "execution_count": 76,
   "id": "e469885d",
   "metadata": {},
   "outputs": [
    {
     "data": {
      "text/plain": [
       "array([[0.05761986, 0.15942525, 0.06518092, 0.04816503, 0.10883077],\n",
       "       [0.08197369, 0.32075797, 0.23917093, 0.27241854, 0.27915928],\n",
       "       [0.16868656, 0.35874132, 0.72977015, 0.40477096, 0.37388711],\n",
       "       [0.74214789, 0.61451204, 0.92583259, 0.44922811, 0.45840839],\n",
       "       [0.98915458, 0.74376861, 0.93076608, 0.65684784, 0.84692386]])"
      ]
     },
     "execution_count": 76,
     "metadata": {},
     "output_type": "execute_result"
    }
   ],
   "source": [
    "np.sort(arr, axis=0)"
   ]
  },
  {
   "cell_type": "code",
   "execution_count": 77,
   "id": "2ad018d2",
   "metadata": {},
   "outputs": [
    {
     "data": {
      "text/plain": [
       "array([[0.05761986, 0.61451204, 0.92583259, 0.04816503],\n",
       "       [0.74214789, 0.15942525, 0.23917093, 0.65684784],\n",
       "       [0.08197369, 0.32075797, 0.06518092, 0.40477096]])"
      ]
     },
     "execution_count": 77,
     "metadata": {},
     "output_type": "execute_result"
    }
   ],
   "source": [
    "arr[:3,:4]"
   ]
  },
  {
   "cell_type": "code",
   "execution_count": 78,
   "id": "58023ceb",
   "metadata": {},
   "outputs": [
    {
     "data": {
      "text/plain": [
       "array([[0.05761986, 0.74214789, 0.08197369],\n",
       "       [0.61451204, 0.15942525, 0.32075797],\n",
       "       [0.92583259, 0.23917093, 0.06518092],\n",
       "       [0.04816503, 0.65684784, 0.40477096]])"
      ]
     },
     "execution_count": 78,
     "metadata": {},
     "output_type": "execute_result"
    }
   ],
   "source": [
    "arr[:3,:4].transpose()"
   ]
  },
  {
   "cell_type": "code",
   "execution_count": 79,
   "id": "05fe8e0c",
   "metadata": {},
   "outputs": [
    {
     "data": {
      "text/plain": [
       "array([0.05761986, 0.61451204, 0.92583259, 0.04816503, 0.27915928,\n",
       "       0.74214789, 0.15942525, 0.23917093, 0.65684784, 0.84692386,\n",
       "       0.08197369, 0.32075797, 0.06518092, 0.40477096, 0.37388711,\n",
       "       0.16868656, 0.35874132, 0.93076608, 0.44922811, 0.10883077,\n",
       "       0.98915458, 0.74376861, 0.72977015, 0.27241854, 0.45840839])"
      ]
     },
     "execution_count": 79,
     "metadata": {},
     "output_type": "execute_result"
    }
   ],
   "source": [
    "arr.flatten()"
   ]
  },
  {
   "cell_type": "code",
   "execution_count": 80,
   "id": "026891fe",
   "metadata": {},
   "outputs": [
    {
     "data": {
      "text/plain": [
       "array([4, 5, 6, 7, 8])"
      ]
     },
     "execution_count": 80,
     "metadata": {},
     "output_type": "execute_result"
    }
   ],
   "source": [
    "arr = np.array([4,5,6,7,8])\n",
    "arr"
   ]
  },
  {
   "cell_type": "code",
   "execution_count": 81,
   "id": "8ab28d4d",
   "metadata": {},
   "outputs": [
    {
     "data": {
      "text/plain": [
       "array([4, 5, 6, 7, 8, 8])"
      ]
     },
     "execution_count": 81,
     "metadata": {},
     "output_type": "execute_result"
    }
   ],
   "source": [
    "arr = np.append(arr, 8)\n",
    "arr"
   ]
  },
  {
   "cell_type": "code",
   "execution_count": 84,
   "id": "41d7d1f4",
   "metadata": {},
   "outputs": [
    {
     "data": {
      "text/plain": [
       "array([  4,   5, 100,   6,   7,   8,   8])"
      ]
     },
     "execution_count": 84,
     "metadata": {},
     "output_type": "execute_result"
    }
   ],
   "source": [
    "arr1 = np.insert(arr, 2, 100)\n",
    "arr1"
   ]
  },
  {
   "cell_type": "code",
   "execution_count": 85,
   "id": "c4c8c096",
   "metadata": {},
   "outputs": [
    {
     "data": {
      "text/plain": [
       "array([  1,   2,   3,   4,   5,   4,   5, 100,   6,   7,   8,   8])"
      ]
     },
     "execution_count": 85,
     "metadata": {},
     "output_type": "execute_result"
    }
   ],
   "source": [
    "arr2 = np.insert(arr1, 0, [1,2,3,4,5])\n",
    "arr2"
   ]
  },
  {
   "cell_type": "code",
   "execution_count": 94,
   "id": "c2143795",
   "metadata": {},
   "outputs": [
    {
     "data": {
      "text/plain": [
       "array([  2,   3,   4,   5,   4,   5, 100,   6,   7,   8])"
      ]
     },
     "execution_count": 94,
     "metadata": {},
     "output_type": "execute_result"
    }
   ],
   "source": [
    "arr3 = np.delete(arr2, [0,-1])\n",
    "arr3"
   ]
  },
  {
   "cell_type": "code",
   "execution_count": 95,
   "id": "ba292740",
   "metadata": {},
   "outputs": [
    {
     "data": {
      "text/plain": [
       "array([  2,   3,   4,   5,   4,   5, 100,   6,   7,   8])"
      ]
     },
     "execution_count": 95,
     "metadata": {},
     "output_type": "execute_result"
    }
   ],
   "source": [
    "arrC = arr3.copy()\n",
    "arrC"
   ]
  },
  {
   "cell_type": "code",
   "execution_count": 96,
   "id": "0fc85c06",
   "metadata": {},
   "outputs": [],
   "source": [
    "arr1 = np.array([[1,2,3,4,5],[1,2,3,4,5]])\n",
    "arr2 = np.array([[6,7,8,9,0],[6,7,8,9,0]])"
   ]
  },
  {
   "cell_type": "code",
   "execution_count": 98,
   "id": "5ee3a80d",
   "metadata": {},
   "outputs": [
    {
     "data": {
      "text/plain": [
       "array([[1, 2, 3, 4, 5],\n",
       "       [1, 2, 3, 4, 5],\n",
       "       [6, 7, 8, 9, 0],\n",
       "       [6, 7, 8, 9, 0]])"
      ]
     },
     "execution_count": 98,
     "metadata": {},
     "output_type": "execute_result"
    }
   ],
   "source": [
    "arr_cat = np.concatenate((arr1, arr2))\n",
    "arr_cat"
   ]
  },
  {
   "cell_type": "code",
   "execution_count": 100,
   "id": "1e6a715f",
   "metadata": {},
   "outputs": [
    {
     "data": {
      "text/plain": [
       "array([[1, 2, 3, 4, 5],\n",
       "       [1, 2, 3, 4, 5],\n",
       "       [6, 7, 8, 9, 0],\n",
       "       [6, 7, 8, 9, 0]])"
      ]
     },
     "execution_count": 100,
     "metadata": {},
     "output_type": "execute_result"
    }
   ],
   "source": [
    "arr_cat_row = np.concatenate((arr1, arr2), axis = 0)\n",
    "arr_cat_row "
   ]
  },
  {
   "cell_type": "code",
   "execution_count": 101,
   "id": "821b094b",
   "metadata": {},
   "outputs": [
    {
     "data": {
      "text/plain": [
       "array([[1, 2, 3, 4, 5, 6, 7, 8, 9, 0],\n",
       "       [1, 2, 3, 4, 5, 6, 7, 8, 9, 0]])"
      ]
     },
     "execution_count": 101,
     "metadata": {},
     "output_type": "execute_result"
    }
   ],
   "source": [
    "arr_cat_col = np.concatenate((arr1, arr2), axis = 1)\n",
    "arr_cat_col "
   ]
  },
  {
   "cell_type": "code",
   "execution_count": 102,
   "id": "d650e532",
   "metadata": {},
   "outputs": [
    {
     "data": {
      "text/plain": [
       "array([[1, 2, 3, 4, 5],\n",
       "       [1, 2, 3, 4, 5],\n",
       "       [6, 7, 8, 9, 0],\n",
       "       [6, 7, 8, 9, 0]])"
      ]
     },
     "execution_count": 102,
     "metadata": {},
     "output_type": "execute_result"
    }
   ],
   "source": [
    "catV = np.vstack((arr1, arr2))\n",
    "catV"
   ]
  },
  {
   "cell_type": "code",
   "execution_count": 103,
   "id": "2767d0fc",
   "metadata": {},
   "outputs": [
    {
     "data": {
      "text/plain": [
       "array([[1, 2, 3, 4, 5, 6, 7, 8, 9, 0],\n",
       "       [1, 2, 3, 4, 5, 6, 7, 8, 9, 0]])"
      ]
     },
     "execution_count": 103,
     "metadata": {},
     "output_type": "execute_result"
    }
   ],
   "source": [
    "catH = np.hstack((arr1, arr2))\n",
    "catH"
   ]
  },
  {
   "cell_type": "code",
   "execution_count": 104,
   "id": "e50a70c1",
   "metadata": {},
   "outputs": [
    {
     "data": {
      "text/plain": [
       "array([1, 2, 3, 4, 5, 6])"
      ]
     },
     "execution_count": 104,
     "metadata": {},
     "output_type": "execute_result"
    }
   ],
   "source": [
    "arr = np.array([1,2,3,4,5,6,3,6,1,2,4])\n",
    "np.unique(arr)"
   ]
  },
  {
   "cell_type": "code",
   "execution_count": 105,
   "id": "be4f5698",
   "metadata": {},
   "outputs": [],
   "source": [
    "uniques, counts = np.unique(arr, return_counts=True)"
   ]
  },
  {
   "cell_type": "code",
   "execution_count": 106,
   "id": "6dd98eea",
   "metadata": {},
   "outputs": [
    {
     "data": {
      "text/plain": [
       "array([1, 2, 3, 4, 5, 6])"
      ]
     },
     "execution_count": 106,
     "metadata": {},
     "output_type": "execute_result"
    }
   ],
   "source": [
    "uniques"
   ]
  },
  {
   "cell_type": "code",
   "execution_count": 107,
   "id": "68c6419d",
   "metadata": {},
   "outputs": [
    {
     "data": {
      "text/plain": [
       "array([2, 2, 2, 2, 1, 2], dtype=int64)"
      ]
     },
     "execution_count": 107,
     "metadata": {},
     "output_type": "execute_result"
    }
   ],
   "source": [
    "counts"
   ]
  },
  {
   "cell_type": "code",
   "execution_count": null,
   "id": "ed7f8912",
   "metadata": {},
   "outputs": [],
   "source": []
  },
  {
   "cell_type": "code",
   "execution_count": null,
   "id": "63e34866",
   "metadata": {},
   "outputs": [],
   "source": []
  }
 ],
 "metadata": {
  "kernelspec": {
   "display_name": "Python 3.9.12 ('base')",
   "language": "python",
   "name": "python3"
  },
  "language_info": {
   "codemirror_mode": {
    "name": "ipython",
    "version": 3
   },
   "file_extension": ".py",
   "mimetype": "text/x-python",
   "name": "python",
   "nbconvert_exporter": "python",
   "pygments_lexer": "ipython3",
   "version": "3.9.12"
  },
  "vscode": {
   "interpreter": {
    "hash": "ad2bdc8ecc057115af97d19610ffacc2b4e99fae6737bb82f5d7fb13d2f2c186"
   }
  }
 },
 "nbformat": 4,
 "nbformat_minor": 5
}
